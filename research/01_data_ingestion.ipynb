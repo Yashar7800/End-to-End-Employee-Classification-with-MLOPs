{
 "cells": [
  {
   "cell_type": "code",
   "execution_count": 3,
   "id": "0ea8a039",
   "metadata": {},
   "outputs": [],
   "source": [
    "import os"
   ]
  },
  {
   "cell_type": "code",
   "execution_count": 4,
   "id": "6dad7d6c",
   "metadata": {},
   "outputs": [
    {
     "data": {
      "text/plain": [
       "'c:\\\\Users\\\\Yashar\\\\End-to-End-Employee-Classification-with-MLOPs\\\\research'"
      ]
     },
     "execution_count": 4,
     "metadata": {},
     "output_type": "execute_result"
    }
   ],
   "source": [
    "%pwd"
   ]
  },
  {
   "cell_type": "code",
   "execution_count": 5,
   "id": "0a46f24c",
   "metadata": {},
   "outputs": [],
   "source": [
    "os.chdir('../')"
   ]
  },
  {
   "cell_type": "code",
   "execution_count": 6,
   "id": "57a0c877",
   "metadata": {},
   "outputs": [
    {
     "data": {
      "text/plain": [
       "'c:\\\\Users\\\\Yashar\\\\End-to-End-Employee-Classification-with-MLOPs'"
      ]
     },
     "execution_count": 6,
     "metadata": {},
     "output_type": "execute_result"
    }
   ],
   "source": [
    "%pwd"
   ]
  },
  {
   "cell_type": "markdown",
   "id": "c9b8414b",
   "metadata": {},
   "source": [
    "## config_entity.py"
   ]
  },
  {
   "cell_type": "code",
   "execution_count": 7,
   "id": "b181339c",
   "metadata": {},
   "outputs": [],
   "source": [
    "# Updating the Entity \n",
    "# The same variables from the config.yaml is here like root_dir, source_url, local_data_file, unzip_dir\n",
    "from dataclasses import dataclass\n",
    "from pathlib import Path\n",
    "\n",
    "@dataclass(frozen=True)\n",
    "class DataIngestionConfig:\n",
    "  \n",
    "    root_dir: Path\n",
    "    source_URL: str # the written type is string\n",
    "    local_data_file: Path \n",
    "    unzip_dir: Path "
   ]
  },
  {
   "cell_type": "markdown",
   "id": "fcac44f8",
   "metadata": {},
   "source": [
    "## configuration.py"
   ]
  },
  {
   "cell_type": "code",
   "execution_count": 8,
   "id": "5bb47c68",
   "metadata": {},
   "outputs": [],
   "source": [
    "# Updating configuration manager in src config\n",
    "# Next we need to read the Yaml file.then we will write some functions in the constants folder. we define that 3 functionto read the yaml files.\n",
    "# after that we will import functions like read_yaml, create_directories from utils.common\n",
    "\n",
    "from mlProject.constants import *\n",
    "from mlProject.utils.common import read_yaml, create_directories\n",
    "\n",
    "class ConfigurationManager:\n",
    "    def __init__(self,\n",
    "                 config_filepath = CONFIG_FILE_PATH,  # these variables like CONFIG_FILE_PATH has come from the constants folder\n",
    "                 params_filepath = PARAMS_FILE_PATH,\n",
    "                 schema_filepaht = SCHEMA_FILE_PATH):\n",
    "        self.config = read_yaml(config_filepath)\n",
    "        self.params = read_yaml(params_filepath)\n",
    "        self.schema = read_yaml(schema_filepaht)\n",
    "\n",
    "        create_directories([self.config.artifacts_root]) # here we are creating th artifacts folder | the artifacts_root has come from config.yaml\n",
    "\n",
    "    def get_data_ingestion_config(self) -> DataIngestionConfig:  # here we have defined our written type\n",
    "        config = self.config.data_ingestion\n",
    "\n",
    "        create_directories([config.root_dir])   # the root_dir has come from config.yaml\n",
    "\n",
    "        data_ingestion_config = DataIngestionConfig(\n",
    "            root_dir=config.root_dir,\n",
    "            source_URL=config.source_URL,\n",
    "            local_data_file= config.local_data_file,\n",
    "            unzip_dir=config.unzip_dir\n",
    "        )\n",
    "\n",
    "        return data_ingestion_config"
   ]
  },
  {
   "cell_type": "markdown",
   "id": "c690a75d",
   "metadata": {},
   "source": [
    "## components/data_ingestion.py"
   ]
  },
  {
   "cell_type": "code",
   "execution_count": 9,
   "id": "db154c26",
   "metadata": {},
   "outputs": [],
   "source": [
    "# Updating the components\n",
    "\n",
    "import os\n",
    "import urllib.request as request\n",
    "import zipfile\n",
    "from mlProject import logger\n",
    "from mlProject.utils.common import get_size\n",
    "\n",
    "\n",
    "class DataIngestion:\n",
    "    def __init__(self,config: DataIngestionConfig):\n",
    "        self.config = config\n",
    "\n",
    "\n",
    "    def download_file(self):\n",
    "        if not os.path.exists(self.config.local_data_file):\n",
    "            filename , headers = request.urlretrieve(\n",
    "            url = self.config.source_URL, # the surce_url is mentioned in the comfig.yaml\n",
    "            filename = self.config.local_data_file\n",
    "            )\n",
    "            logger.info(f'{filename} download! with following info: \\n{headers}')\n",
    "        else:\n",
    "            logger.info(f'file already exists of size: {get_size(path(self.config.local_data_file))}')\n",
    "\n",
    "    \n",
    "    def extract_zip_file(self):\n",
    "        \"\"\"\n",
    "        zip_file_path: str\n",
    "        Extracts the zip file into the data directory\n",
    "        Function returns None\n",
    "        \"\"\"\n",
    "        unzip_path = self.config.unzip_dir\n",
    "        os.makedirs(unzip_path,exist_ok=True)\n",
    "        with zipfile.ZipFile(self.config.local_data_file,'r') as zip_ref:\n",
    "            zip_ref.extractall(unzip_path)"
   ]
  },
  {
   "cell_type": "markdown",
   "id": "39186753",
   "metadata": {},
   "source": [
    "## pipeline/stage_01_data_ingestion.py"
   ]
  },
  {
   "cell_type": "code",
   "execution_count": 10,
   "id": "814757e2",
   "metadata": {},
   "outputs": [
    {
     "name": "stdout",
     "output_type": "stream",
     "text": [
      "[2025-07-12 15:51:29,387: INFO: common: yaml file: config\\config.yaml loaded successfully]\n",
      "[2025-07-12 15:51:29,390: INFO: common: yaml file: params.yaml loaded successfully]\n",
      "[2025-07-12 15:51:29,392: INFO: common: yaml file: schema.yaml loaded successfully]\n",
      "[2025-07-12 15:51:29,393: INFO: common: created directory at: artifacts]\n",
      "[2025-07-12 15:51:29,394: INFO: common: created directory at: artifacts/data_ingestion]\n",
      "[2025-07-12 15:51:30,067: INFO: 2413313259: artifacts/data_ingestion/data.zip download! with following info: \n",
      "Connection: close\n",
      "Content-Length: 17622\n",
      "Cache-Control: max-age=300\n",
      "Content-Security-Policy: default-src 'none'; style-src 'unsafe-inline'; sandbox\n",
      "Content-Type: application/zip\n",
      "ETag: \"e8867d7a51c87b7e14e8503577a8caa110675b63d196d73096bb4fe655fb7aec\"\n",
      "Strict-Transport-Security: max-age=31536000\n",
      "X-Content-Type-Options: nosniff\n",
      "X-Frame-Options: deny\n",
      "X-XSS-Protection: 1; mode=block\n",
      "X-GitHub-Request-Id: 27E2:2D4348:A112CD:BCA563:68725C09\n",
      "Accept-Ranges: bytes\n",
      "Date: Sat, 12 Jul 2025 13:51:32 GMT\n",
      "Via: 1.1 varnish\n",
      "X-Served-By: cache-ams21068-AMS\n",
      "X-Cache: HIT\n",
      "X-Cache-Hits: 0\n",
      "X-Timer: S1752328293.660298,VS0,VE110\n",
      "Vary: Authorization,Accept-Encoding\n",
      "Access-Control-Allow-Origin: *\n",
      "Cross-Origin-Resource-Policy: cross-origin\n",
      "X-Fastly-Request-ID: 70b624f92a012ec9ab8889e0843ad8d0b5a6c550\n",
      "Expires: Sat, 12 Jul 2025 13:56:32 GMT\n",
      "Source-Age: 0\n",
      "\n",
      "]\n"
     ]
    }
   ],
   "source": [
    "# Update the Pipeline\n",
    "\n",
    "try:\n",
    "    config = ConfigurationManager() # configuration manager\n",
    "    data_ingestion_config = config.get_data_ingestion_config() # configuration manager\n",
    "    data_ingestion = DataIngestion(config=data_ingestion_config) # components\n",
    "    data_ingestion.download_file() # components\n",
    "    data_ingestion.extract_zip_file() # components\n",
    "except Exception as e:\n",
    "    raise e"
   ]
  },
  {
   "cell_type": "code",
   "execution_count": null,
   "id": "9810a6dd",
   "metadata": {},
   "outputs": [],
   "source": []
  }
 ],
 "metadata": {
  "kernelspec": {
   "display_name": "mlops2",
   "language": "python",
   "name": "python3"
  },
  "language_info": {
   "codemirror_mode": {
    "name": "ipython",
    "version": 3
   },
   "file_extension": ".py",
   "mimetype": "text/x-python",
   "name": "python",
   "nbconvert_exporter": "python",
   "pygments_lexer": "ipython3",
   "version": "3.10.16"
  }
 },
 "nbformat": 4,
 "nbformat_minor": 5
}
