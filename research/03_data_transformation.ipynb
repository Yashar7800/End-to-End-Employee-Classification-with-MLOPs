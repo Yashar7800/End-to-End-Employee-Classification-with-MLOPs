{
 "cells": [
  {
   "cell_type": "code",
   "execution_count": 1,
   "id": "f8b70a92",
   "metadata": {},
   "outputs": [],
   "source": [
    "import os"
   ]
  },
  {
   "cell_type": "code",
   "execution_count": 2,
   "id": "071b0129",
   "metadata": {},
   "outputs": [
    {
     "data": {
      "text/plain": [
       "'c:\\\\Users\\\\Yashar\\\\End-to-End-Employee-Classification-with-MLOPs\\\\research'"
      ]
     },
     "execution_count": 2,
     "metadata": {},
     "output_type": "execute_result"
    }
   ],
   "source": [
    "%pwd"
   ]
  },
  {
   "cell_type": "code",
   "execution_count": 3,
   "id": "2ecd8714",
   "metadata": {},
   "outputs": [],
   "source": [
    "os.chdir('../')"
   ]
  },
  {
   "cell_type": "code",
   "execution_count": 4,
   "id": "541ba9e1",
   "metadata": {},
   "outputs": [
    {
     "data": {
      "text/plain": [
       "'c:\\\\Users\\\\Yashar\\\\End-to-End-Employee-Classification-with-MLOPs'"
      ]
     },
     "execution_count": 4,
     "metadata": {},
     "output_type": "execute_result"
    }
   ],
   "source": [
    "%pwd"
   ]
  },
  {
   "cell_type": "markdown",
   "id": "f13e9524",
   "metadata": {},
   "source": [
    "## config_entity.py"
   ]
  },
  {
   "cell_type": "code",
   "execution_count": 15,
   "id": "4bc39b7d",
   "metadata": {},
   "outputs": [],
   "source": [
    "from dataclasses import dataclass\n",
    "from pathlib import Path\n",
    "\n",
    "@dataclass(frozen=True)\n",
    "class DataTransformationConfig:\n",
    "    root_dir: Path\n",
    "    data_path: Path"
   ]
  },
  {
   "cell_type": "markdown",
   "id": "9186ee65",
   "metadata": {},
   "source": [
    "## configuration.py"
   ]
  },
  {
   "cell_type": "code",
   "execution_count": 16,
   "id": "8cfcb645",
   "metadata": {},
   "outputs": [],
   "source": [
    "# Update Configuration\n",
    "\n",
    "from mlProject.constants import *\n",
    "from mlProject.utils.common import read_yaml, create_directories\n",
    "\n",
    "class ConfigurationManager:\n",
    "    def __init__(self,\n",
    "                 config_filepath = CONFIG_FILE_PATH,\n",
    "                 params_filepath = PARAMS_FILE_PATH,\n",
    "                 schema_filepath = SCHEMA_FILE_PATH):\n",
    "        self.config = read_yaml(config_filepath)\n",
    "        self.params = read_yaml(params_filepath)\n",
    "        self.schema = read_yaml(schema_filepath)\n",
    "\n",
    "        create_directories([self.config.artifacts_root])\n",
    "\n",
    "\n",
    "    def get_data_transformation_config(self) -> DataTransformationConfig:\n",
    "        config = self.config.data_transformation\n",
    "\n",
    "        create_directories([config.root_dir])\n",
    "\n",
    "        data_transformation_config = DataTransformationConfig(\n",
    "            root_dir=config.root_dir,\n",
    "            data_path=config.data_path\n",
    "        )\n",
    "\n",
    "        return data_transformation_config\n",
    "    \n"
   ]
  },
  {
   "cell_type": "markdown",
   "id": "b71b9cf7",
   "metadata": {},
   "source": [
    "## components/data_transformation.py"
   ]
  },
  {
   "cell_type": "code",
   "execution_count": 20,
   "id": "338aa97b",
   "metadata": {},
   "outputs": [],
   "source": [
    "import os\n",
    "from mlProject import logger\n",
    "from sklearn.compose import ColumnTransformer\n",
    "from sklearn.preprocessing import OrdinalEncoder, OneHotEncoder\n",
    "import joblib\n",
    "import pandas as pd\n",
    "\n",
    "class DataTransformation:\n",
    "    def __init__(self, config: DataTransformationConfig):\n",
    "        self.config = config\n",
    "\n",
    "    def data_preparation(self):\n",
    "        data = pd.read_csv(self.config.data_path)\n",
    "        data['Tenure'] = 2025 - data['JoiningYear']\n",
    "\n",
    "        X = data.drop(\"LeaveOrNot\", axis=1)\n",
    "        y = data[\"LeaveOrNot\"]\n",
    "\n",
    "        logger.info(\"splitting the data into dependet and independent variables\")\n",
    "        logger.info(X.shape)\n",
    "        logger.info(y.shape)\n",
    "\n",
    "        print(X.shape)\n",
    "        print(y.shape)\n",
    "\n",
    "        # Define preprocessor\n",
    "        categorical_nominal = [\"City\", \"Gender\", \"EverBenched\"]\n",
    "        categorical_ordinal = [\"Education\"]\n",
    "        numerical_cols = [\"JoiningYear\", \"PaymentTier\", \"Age\", \"ExperienceInCurrentDomain\", \"Tenure\"]\n",
    "        preprocessor = ColumnTransformer(\n",
    "            transformers=[\n",
    "                (\"cat_nominal\", OneHotEncoder(handle_unknown=\"ignore\"), categorical_nominal),\n",
    "                (\"cat_ordinal\", OrdinalEncoder(categories=[[\"Bachelors\", \"Masters\", \"PHD\"]]), categorical_ordinal),\n",
    "                (\"num\", \"passthrough\", numerical_cols)\n",
    "            ]\n",
    "        )\n",
    "\n",
    "        # Fit preprocessor (to be used in training)\n",
    "        preprocessor.fit(X)\n",
    "\n",
    "        # Save preprocessor\n",
    "        joblib.dump(preprocessor, os.path.join(self.config.root_dir,'preprocessor.pkl'))\n",
    "        logger.info(\"the Preprocessor is saved successfully! \")\n",
    "\n",
    "    \n"
   ]
  },
  {
   "cell_type": "markdown",
   "id": "daeb2b51",
   "metadata": {},
   "source": [
    "## pipeline/stage_03_data_transformation.py"
   ]
  },
  {
   "cell_type": "code",
   "execution_count": 21,
   "id": "c17e720c",
   "metadata": {},
   "outputs": [
    {
     "name": "stdout",
     "output_type": "stream",
     "text": [
      "[2025-07-14 18:41:16,280: INFO: common: yaml file: config\\config.yaml loaded successfully]\n",
      "[2025-07-14 18:41:16,281: INFO: common: yaml file: params.yaml loaded successfully]\n",
      "[2025-07-14 18:41:16,283: INFO: common: yaml file: schema.yaml loaded successfully]\n",
      "[2025-07-14 18:41:16,283: INFO: common: created directory at: artifacts]\n",
      "[2025-07-14 18:41:16,283: INFO: common: created directory at: artifacts/data_transformation]\n",
      "[2025-07-14 18:41:16,293: INFO: 901742189: splitting the data into dependet and independent variables]\n",
      "[2025-07-14 18:41:16,294: INFO: 901742189: (4653, 9)]\n",
      "[2025-07-14 18:41:16,295: INFO: 901742189: (4653,)]\n",
      "(4653, 9)\n",
      "(4653,)\n",
      "[2025-07-14 18:41:16,309: INFO: 901742189: the Preprocessor is saved successfully! ]\n"
     ]
    }
   ],
   "source": [
    "# Updating the Pipeline\n",
    "\n",
    "try:\n",
    "    config = ConfigurationManager()\n",
    "    data_transformation_config = config.get_data_transformation_config()\n",
    "    data_transformation = DataTransformation(config=data_transformation_config)\n",
    "    data_transformation.data_preparation()\n",
    "except Exception as e:\n",
    "    raise e\n"
   ]
  },
  {
   "cell_type": "code",
   "execution_count": null,
   "id": "fa07e884",
   "metadata": {},
   "outputs": [],
   "source": []
  }
 ],
 "metadata": {
  "kernelspec": {
   "display_name": "mlops2",
   "language": "python",
   "name": "python3"
  },
  "language_info": {
   "codemirror_mode": {
    "name": "ipython",
    "version": 3
   },
   "file_extension": ".py",
   "mimetype": "text/x-python",
   "name": "python",
   "nbconvert_exporter": "python",
   "pygments_lexer": "ipython3",
   "version": "3.10.16"
  }
 },
 "nbformat": 4,
 "nbformat_minor": 5
}
