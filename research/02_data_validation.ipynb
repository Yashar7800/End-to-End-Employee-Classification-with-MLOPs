{
 "cells": [
  {
   "cell_type": "code",
   "execution_count": 13,
   "id": "b625d637",
   "metadata": {},
   "outputs": [],
   "source": [
    "import os"
   ]
  },
  {
   "cell_type": "code",
   "execution_count": 14,
   "id": "be822844",
   "metadata": {},
   "outputs": [
    {
     "data": {
      "text/plain": [
       "'c:\\\\Users\\\\Yashar\\\\End-to-End-Employee-Classification-with-MLOPs'"
      ]
     },
     "execution_count": 14,
     "metadata": {},
     "output_type": "execute_result"
    }
   ],
   "source": [
    "%pwd"
   ]
  },
  {
   "cell_type": "code",
   "execution_count": 3,
   "id": "84e727ed",
   "metadata": {},
   "outputs": [],
   "source": [
    "os.chdir('../')"
   ]
  },
  {
   "cell_type": "code",
   "execution_count": 15,
   "id": "76d19c98",
   "metadata": {},
   "outputs": [
    {
     "data": {
      "text/plain": [
       "'c:\\\\Users\\\\Yashar\\\\End-to-End-Employee-Classification-with-MLOPs'"
      ]
     },
     "execution_count": 15,
     "metadata": {},
     "output_type": "execute_result"
    }
   ],
   "source": [
    "%pwd"
   ]
  },
  {
   "cell_type": "markdown",
   "id": "010d340a",
   "metadata": {},
   "source": [
    "## config_entity.py"
   ]
  },
  {
   "cell_type": "code",
   "execution_count": 16,
   "id": "0d0ce72d",
   "metadata": {},
   "outputs": [],
   "source": [
    "# Updating the Entity \n",
    "# The same variables from the config.yaml is here like root_dir, unzip_dir, STATUS_FILE\n",
    "\n",
    "from dataclasses import dataclass\n",
    "from pathlib import Path\n",
    "\n",
    "@dataclass(frozen=True)\n",
    "class DataValidationConfig:\n",
    "  \n",
    "    root_dir: Path\n",
    "    unzip_data_dir: Path\n",
    "    STATUS_FILE: str\n",
    "    all_schema: dict"
   ]
  },
  {
   "cell_type": "markdown",
   "id": "209cee19",
   "metadata": {},
   "source": [
    "## configuration.py"
   ]
  },
  {
   "cell_type": "code",
   "execution_count": 17,
   "id": "dd320755",
   "metadata": {},
   "outputs": [],
   "source": [
    "# Updating configuration manager in src config\n",
    "# Next we need to read the Yaml file.then we will write some functions in the constants folder. we define that 3 functionto read the yaml files.\n",
    "# after that we will import functions like read_yaml, create_directories from utils.common\n",
    "\n",
    "from mlProject.constants import *\n",
    "from mlProject.utils.common import read_yaml,create_directories\n",
    "\n",
    "class ConfigurationManager:\n",
    "    def __init__(self,\n",
    "                 config_filepath= CONFIG_FILE_PATH,\n",
    "                 schema_filepath= SCHEMA_FILE_PATH,\n",
    "                 params_filepath= PARAMS_FILE_PATH):\n",
    "        \n",
    "        self.config = read_yaml(config_filepath)\n",
    "        self.params = read_yaml(params_filepath)\n",
    "        self.schema = read_yaml(schema_filepath)\n",
    "\n",
    "        create_directories([self.config.artifacts_root])\n",
    "    \n",
    "\n",
    "    def get_data_validation_config(self) -> DataValidationConfig:\n",
    "        config = self.config.data_validation\n",
    "        schema = self.schema.COLUMNS\n",
    "\n",
    "        create_directories([config.root_dir])\n",
    "\n",
    "        data_validation_config = DataValidationConfig(\n",
    "            unzip_data_dir = config.unzip_data_dir,\n",
    "            root_dir = config.root_dir,\n",
    "            STATUS_FILE= config.STATUS_FILE,\n",
    "            all_schema= schema\n",
    "\n",
    "        )\n",
    "\n",
    "        return data_validation_config\n",
    "\n",
    "    "
   ]
  },
  {
   "cell_type": "markdown",
   "id": "97c9b54c",
   "metadata": {},
   "source": [
    "## components/data_validation.py"
   ]
  },
  {
   "cell_type": "code",
   "execution_count": 7,
   "id": "f5881d39",
   "metadata": {},
   "outputs": [
    {
     "name": "stdout",
     "output_type": "stream",
     "text": [
      "<class 'pandas.core.frame.DataFrame'>\n",
      "RangeIndex: 4653 entries, 0 to 4652\n",
      "Data columns (total 9 columns):\n",
      " #   Column                     Non-Null Count  Dtype \n",
      "---  ------                     --------------  ----- \n",
      " 0   Education                  4653 non-null   object\n",
      " 1   JoiningYear                4653 non-null   int64 \n",
      " 2   City                       4653 non-null   object\n",
      " 3   PaymentTier                4653 non-null   int64 \n",
      " 4   Age                        4653 non-null   int64 \n",
      " 5   Gender                     4653 non-null   object\n",
      " 6   EverBenched                4653 non-null   object\n",
      " 7   ExperienceInCurrentDomain  4653 non-null   int64 \n",
      " 8   LeaveOrNot                 4653 non-null   int64 \n",
      "dtypes: int64(5), object(4)\n",
      "memory usage: 327.3+ KB\n"
     ]
    }
   ],
   "source": [
    "import pandas as pd\n",
    "data = pd.read_csv('artifacts/data_ingestion/Employee.csv')\n",
    "data.info()"
   ]
  },
  {
   "cell_type": "code",
   "execution_count": 8,
   "id": "dc49831b",
   "metadata": {},
   "outputs": [
    {
     "data": {
      "text/plain": [
       "Education                    0\n",
       "JoiningYear                  0\n",
       "City                         0\n",
       "PaymentTier                  0\n",
       "Age                          0\n",
       "Gender                       0\n",
       "EverBenched                  0\n",
       "ExperienceInCurrentDomain    0\n",
       "LeaveOrNot                   0\n",
       "dtype: int64"
      ]
     },
     "execution_count": 8,
     "metadata": {},
     "output_type": "execute_result"
    }
   ],
   "source": [
    "data.isnull().sum()"
   ]
  },
  {
   "cell_type": "code",
   "execution_count": 9,
   "id": "d8bf7bf6",
   "metadata": {},
   "outputs": [
    {
     "data": {
      "text/plain": [
       "Index(['Education', 'JoiningYear', 'City', 'PaymentTier', 'Age', 'Gender',\n",
       "       'EverBenched', 'ExperienceInCurrentDomain', 'LeaveOrNot'],\n",
       "      dtype='object')"
      ]
     },
     "execution_count": 9,
     "metadata": {},
     "output_type": "execute_result"
    }
   ],
   "source": [
    "data.columns"
   ]
  },
  {
   "cell_type": "code",
   "execution_count": 18,
   "id": "c09f3483",
   "metadata": {},
   "outputs": [],
   "source": [
    "# Updating the components\n",
    "import os\n",
    "from mlProject import logger\n",
    "\n",
    "class DataValidation:\n",
    "    def __init__(self, config: DataValidationConfig):\n",
    "        self.config = config\n",
    "\n",
    "    def validate_all_columns(self) -> bool:\n",
    "        try:\n",
    "            # Read the CSV file\n",
    "            data = pd.read_csv(self.config.unzip_data_dir)\n",
    "            \n",
    "            # Get columns from CSV and schema\n",
    "            all_cols = set(data.columns)\n",
    "            schema_cols = set(self.config.all_schema.keys())\n",
    "            \n",
    "            # Check if columns match exactly\n",
    "            validation_status = (all_cols == schema_cols)\n",
    "            \n",
    "            # If columns match, check data types\n",
    "            if validation_status:\n",
    "                for col in all_cols:\n",
    "                    expected_dtype = self.config.all_schema[col]\n",
    "                    actual_dtype = data.dtypes[col].name\n",
    "                    if actual_dtype != expected_dtype:\n",
    "                        validation_status = False\n",
    "                        break\n",
    "            \n",
    "            # Write validation status to file\n",
    "            with open(self.config.STATUS_FILE, 'w') as f:\n",
    "                f.write(f\"Validation status: {validation_status}\")\n",
    "            \n",
    "            return validation_status\n",
    "        \n",
    "        except Exception as e:\n",
    "            raise e\n",
    "            \n"
   ]
  },
  {
   "cell_type": "markdown",
   "id": "a2cba582",
   "metadata": {},
   "source": [
    "## pipeline/stage_02_data_validation.py"
   ]
  },
  {
   "cell_type": "code",
   "execution_count": 19,
   "id": "c4853e2b",
   "metadata": {},
   "outputs": [
    {
     "name": "stdout",
     "output_type": "stream",
     "text": [
      "[2025-07-12 15:52:38,969: INFO: common: yaml file: config\\config.yaml loaded successfully]\n",
      "[2025-07-12 15:52:38,971: INFO: common: yaml file: params.yaml loaded successfully]\n",
      "[2025-07-12 15:52:38,973: INFO: common: yaml file: schema.yaml loaded successfully]\n",
      "[2025-07-12 15:52:38,974: INFO: common: created directory at: artifacts]\n",
      "[2025-07-12 15:52:38,975: INFO: common: created directory at: artifacts/data_validation]\n"
     ]
    }
   ],
   "source": [
    "# Update the Pipeline\n",
    "\n",
    "try:\n",
    "    config = ConfigurationManager() # configuration manager\n",
    "    data_validation_config = config.get_data_validation_config() # configuration manager\n",
    "    data_validation = DataValidation(config=data_validation_config) # components\n",
    "    data_validation.validate_all_columns() # components\n",
    "   \n",
    "except Exception as e:\n",
    "    raise e"
   ]
  },
  {
   "cell_type": "code",
   "execution_count": null,
   "id": "00a6fd41",
   "metadata": {},
   "outputs": [],
   "source": []
  }
 ],
 "metadata": {
  "kernelspec": {
   "display_name": "mlops2",
   "language": "python",
   "name": "python3"
  },
  "language_info": {
   "codemirror_mode": {
    "name": "ipython",
    "version": 3
   },
   "file_extension": ".py",
   "mimetype": "text/x-python",
   "name": "python",
   "nbconvert_exporter": "python",
   "pygments_lexer": "ipython3",
   "version": "3.10.16"
  }
 },
 "nbformat": 4,
 "nbformat_minor": 5
}
