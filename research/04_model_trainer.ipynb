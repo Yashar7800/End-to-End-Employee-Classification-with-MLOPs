{
 "cells": [
  {
   "cell_type": "code",
   "execution_count": 1,
   "id": "33f50e07",
   "metadata": {},
   "outputs": [],
   "source": [
    "import os"
   ]
  },
  {
   "cell_type": "code",
   "execution_count": 2,
   "id": "138f9d28",
   "metadata": {},
   "outputs": [
    {
     "data": {
      "text/plain": [
       "'c:\\\\Users\\\\Yashar\\\\End-to-End-Employee-Classification-with-MLOPs\\\\research'"
      ]
     },
     "execution_count": 2,
     "metadata": {},
     "output_type": "execute_result"
    }
   ],
   "source": [
    "%pwd"
   ]
  },
  {
   "cell_type": "code",
   "execution_count": 3,
   "id": "f3954970",
   "metadata": {},
   "outputs": [],
   "source": [
    "os.chdir('../')"
   ]
  },
  {
   "cell_type": "code",
   "execution_count": 4,
   "id": "3323e552",
   "metadata": {},
   "outputs": [
    {
     "data": {
      "text/plain": [
       "'c:\\\\Users\\\\Yashar\\\\End-to-End-Employee-Classification-with-MLOPs'"
      ]
     },
     "execution_count": 4,
     "metadata": {},
     "output_type": "execute_result"
    }
   ],
   "source": [
    "%pwd"
   ]
  },
  {
   "cell_type": "markdown",
   "id": "e7f2649a",
   "metadata": {},
   "source": [
    "## config_entity.py"
   ]
  },
  {
   "cell_type": "code",
   "execution_count": 13,
   "id": "c9ad6501",
   "metadata": {},
   "outputs": [],
   "source": [
    "# Prepare the Entity\n",
    "\n",
    "from dataclasses import dataclass\n",
    "from pathlib import Path\n",
    "\n",
    "@dataclass(frozen=True)\n",
    "class ModelTrainerConfig:\n",
    "    root_dir: Path\n",
    "    data_path: Path\n",
    "    preprocessor_path: Path\n",
    "    model_path: Path\n",
    "    n_estimators: float\n",
    "    learning_rate: int\n",
    "    max_depth: int   # will define parameters in params.yaml\n",
    "    target_column: str  # will get target column from schema.yaml\n"
   ]
  },
  {
   "cell_type": "markdown",
   "id": "8ab4bc80",
   "metadata": {},
   "source": [
    "## configuration.py"
   ]
  },
  {
   "cell_type": "code",
   "execution_count": 14,
   "id": "608972e9",
   "metadata": {},
   "outputs": [],
   "source": [
    "from mlProject.constants import *\n",
    "from mlProject.utils.common import read_yaml, create_directories\n",
    "\n",
    "class ConfigurationManager:\n",
    "    def __init__(self,\n",
    "                 config_filepath = CONFIG_FILE_PATH,\n",
    "                 params_filepath = PARAMS_FILE_PATH,\n",
    "                 schema_filepath = SCHEMA_FILE_PATH):\n",
    "        self.config = read_yaml(config_filepath)\n",
    "        self.params = read_yaml(params_filepath)\n",
    "        self.schema = read_yaml(schema_filepath)\n",
    "\n",
    "        \n",
    "        create_directories([self.config.artifacts_root])\n",
    "\n",
    "    def get_model_trainer_config(self) -> ModelTrainerConfig:\n",
    "        config = self.config.model_trainer\n",
    "        params = self.params.GradientBoostingClassifier\n",
    "        schema = self.schema.TARGET_COLUMN\n",
    "\n",
    "        create_directories([config.root_dir])\n",
    "\n",
    "        model_trainer_config = ModelTrainerConfig(\n",
    "            root_dir=config.root_dir,\n",
    "            data_path= config.data_path,\n",
    "            preprocessor_path= config.preprocessor_path,\n",
    "            model_path= config.model_path,\n",
    "            n_estimators= params.n_estimators,\n",
    "            learning_rate= params.learning_rate,\n",
    "            max_depth= params.max_depth,\n",
    "            target_column= schema.name\n",
    "        )\n",
    "\n",
    "        return model_trainer_config"
   ]
  },
  {
   "cell_type": "markdown",
   "id": "9a3eace7",
   "metadata": {},
   "source": [
    "## components/model_trainer.py"
   ]
  },
  {
   "cell_type": "code",
   "execution_count": 15,
   "id": "092a0396",
   "metadata": {},
   "outputs": [],
   "source": [
    "# Defining the components\n",
    "\n",
    "from sklearn.model_selection import StratifiedKFold\n",
    "from sklearn.ensemble import GradientBoostingClassifier\n",
    "from imblearn.pipeline import Pipeline as ImbPipeline\n",
    "from imblearn.over_sampling import SMOTE\n",
    "from sklearn.metrics import f1_score\n",
    "import pandas as pd\n",
    "import joblib\n",
    "from mlProject import logger\n",
    "\n",
    "class ModelTrainer:\n",
    "    def __init__(self,config: ModelTrainerConfig):\n",
    "        self.config = config\n",
    "\n",
    "    def train(self):\n",
    "        data = pd.read_csv('artifacts/data_ingestion/Employee.csv')\n",
    "        data[\"Tenure\"] = 2025 - data[\"JoiningYear\"]  # Add derived feature\n",
    "        X = data.drop(\"LeaveOrNot\", axis=1)\n",
    "        y = data[\"LeaveOrNot\"]\n",
    "        preprocessor = joblib.load('artifacts/data_transformation/preprocessor.pkl')\n",
    "\n",
    "        # Define stratified k-fold\n",
    "        skf = StratifiedKFold(n_splits=5, shuffle=True, random_state=42)\n",
    "\n",
    "        # Define GBC with best parameters\n",
    "        gbc = GradientBoostingClassifier(\n",
    "            n_estimators=self.config.n_estimators,\n",
    "            learning_rate=self.config.learning_rate,\n",
    "            max_depth=self.config.max_depth,\n",
    "            random_state=42\n",
    "        )\n",
    "        # Define the model\n",
    "        model = ImbPipeline([\n",
    "            ('preprocessor',preprocessor),\n",
    "            ('smote',SMOTE(random_state=42)),\n",
    "            ('classifier',gbc)\n",
    "        ])\n",
    "\n",
    "        model.fit(X,y)\n",
    "\n",
    "        # Save model\n",
    "        model_path = \"artifacts/model_trainer/model_gbc_tuned.joblib\"\n",
    "        joblib.dump(model, model_path)\n",
    "        print(f\"Model saved to {model_path}\")\n",
    "\n"
   ]
  },
  {
   "cell_type": "markdown",
   "id": "babc5a02",
   "metadata": {},
   "source": [
    "## pipeline/stage_04_model_trainer.py"
   ]
  },
  {
   "cell_type": "code",
   "execution_count": 16,
   "id": "fc538b1a",
   "metadata": {},
   "outputs": [
    {
     "name": "stdout",
     "output_type": "stream",
     "text": [
      "[2025-07-15 11:59:55,518: INFO: common: yaml file: config\\config.yaml loaded successfully]\n",
      "[2025-07-15 11:59:55,541: INFO: common: yaml file: params.yaml loaded successfully]\n",
      "[2025-07-15 11:59:55,546: INFO: common: yaml file: schema.yaml loaded successfully]\n",
      "[2025-07-15 11:59:55,549: INFO: common: created directory at: artifacts]\n",
      "[2025-07-15 11:59:55,550: INFO: common: created directory at: artifacts/model_trainer]\n",
      "Model saved to artifacts/model_trainer/model_gbc_tuned.joblib\n"
     ]
    }
   ],
   "source": [
    "# defining the Pipeline\n",
    "\n",
    "try:\n",
    "    config = ConfigurationManager()\n",
    "    model_trainer_config = config.get_model_trainer_config()\n",
    "    model_trainer_config = ModelTrainer(config=model_trainer_config)\n",
    "    model_trainer_config.train()\n",
    "except Exception as e:\n",
    "    raise e"
   ]
  }
 ],
 "metadata": {
  "kernelspec": {
   "display_name": "mlops2",
   "language": "python",
   "name": "python3"
  },
  "language_info": {
   "codemirror_mode": {
    "name": "ipython",
    "version": 3
   },
   "file_extension": ".py",
   "mimetype": "text/x-python",
   "name": "python",
   "nbconvert_exporter": "python",
   "pygments_lexer": "ipython3",
   "version": "3.10.16"
  }
 },
 "nbformat": 4,
 "nbformat_minor": 5
}
